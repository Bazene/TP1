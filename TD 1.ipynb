{
 "cells": [
  {
   "cell_type": "code",
   "execution_count": 127,
   "metadata": {},
   "outputs": [],
   "source": [
    "employersSalaires = [] ## contiendra les typles (nom, salaire)\n",
    "noms = []\n",
    "salaires = []"
   ]
  },
  {
   "cell_type": "code",
   "execution_count": 128,
   "metadata": {},
   "outputs": [
    {
     "name": "stdout",
     "output_type": "stream",
     "text": [
      "entrer le nom de l'employer :Serge\n",
      "et son salaire :1000\n",
      "Entrez un nombre différent de 0 pour finir l'enregistrement :0\n",
      "entrer le nom de l'employer :amos\n",
      "et son salaire :3000\n",
      "Entrez un nombre différent de 0 pour finir l'enregistrement :2\n",
      "Tapez 1 pour visualiser les employers ayant le plus haut et le plus bas salaire : 1\n",
      "l'employer ayant le plus haut salaire est :serge et son salaire est 1000\n",
      "l'employer ayant le plus haut salaire est :serge et son salaire est 1000\n"
     ]
    }
   ],
   "source": [
    "finEnreg = 0\n",
    "n = 0\n",
    "Visual = 0\n",
    "\n",
    "## enregistrement des noms salaires\n",
    "while (finEnreg == 0 ) :\n",
    "    nomEmp = input(\"entrer le nom de l'employer :\") ## on entre le nom\n",
    "    salaire = int(input(\"et son salaire :\")) ## on entre le salaire\n",
    "    \n",
    "    salaires.append(nomSalaire[1]) # les salaires dans son tableau\n",
    "    \n",
    "    employersSalaires.append(nomSalaire) # les no;\n",
    "    finEnreg = int(input(\"Entrez un nombre différent de 0 pour finir l'enregistrement :\"))\n",
    "    #finEnreg = int(FinEnreg)\n",
    "\n",
    "\n",
    "salaireMin = int(min(salaires))\n",
    "salaireMax = int(max(salaires))\n",
    "\n",
    "visual = int(input(\"Tapez 1 pour visualiser les employers ayant le plus haut et le plus bas salaire : \"))\n",
    "\n",
    "if(visual==1) :\n",
    "    while True :\n",
    "        \n",
    "    for employer in employersSalaires :\n",
    "        if employer[1] == salaireMax : \n",
    "            print(\"l'employer ayant le plus haut salaire est :\"+employer[0]+\" et son salaire est \"+str(salaireMax))\n",
    "            \n",
    "        elif employer[1] == salaireMin :\n",
    "            print(\"l'employer ayant le plus bas salaire est :\"+employer[0]+\" et son salaire est\"+str(salaireMin))\n",
    "            continue"
   ]
  },
  {
   "cell_type": "code",
   "execution_count": null,
   "metadata": {},
   "outputs": [],
   "source": []
  },
  {
   "cell_type": "code",
   "execution_count": null,
   "metadata": {},
   "outputs": [],
   "source": []
  },
  {
   "cell_type": "code",
   "execution_count": null,
   "metadata": {},
   "outputs": [],
   "source": [
    "\n"
   ]
  },
  {
   "cell_type": "code",
   "execution_count": null,
   "metadata": {},
   "outputs": [],
   "source": [
    "\n",
    "    "
   ]
  },
  {
   "cell_type": "code",
   "execution_count": null,
   "metadata": {},
   "outputs": [],
   "source": []
  },
  {
   "cell_type": "code",
   "execution_count": null,
   "metadata": {},
   "outputs": [],
   "source": [
    "\n"
   ]
  },
  {
   "cell_type": "code",
   "execution_count": null,
   "metadata": {},
   "outputs": [],
   "source": []
  }
 ],
 "metadata": {
  "kernelspec": {
   "display_name": "Python 3",
   "language": "python",
   "name": "python3"
  },
  "language_info": {
   "codemirror_mode": {
    "name": "ipython",
    "version": 3
   },
   "file_extension": ".py",
   "mimetype": "text/x-python",
   "name": "python",
   "nbconvert_exporter": "python",
   "pygments_lexer": "ipython3",
   "version": "3.8.5"
  }
 },
 "nbformat": 4,
 "nbformat_minor": 4
}
